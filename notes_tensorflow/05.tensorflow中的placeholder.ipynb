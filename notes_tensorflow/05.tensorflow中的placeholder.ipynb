{
 "cells": [
  {
   "cell_type": "markdown",
   "metadata": {
    "collapsed": true
   },
   "source": [
    "tensorflow 中在运行时动态设置某个变量的值，先使用`placeholder`占位。运行时动态给占位符“喂”数据。 \n",
    "\n",
    "用tf.placeholder占位"
   ]
  },
  {
   "cell_type": "code",
   "execution_count": 1,
   "metadata": {},
   "outputs": [
    {
     "name": "stdout",
     "output_type": "stream",
     "text": [
      "70.0\n"
     ]
    }
   ],
   "source": [
    "import tensorflow as tf\n",
    "\n",
    "a = tf.placeholder(tf.float32, name = \"input_1\")\n",
    "b = tf.placeholder(tf.float32, name = \"input_2\")\n",
    "output = tf.multiply(a, b, name = \"mul_out\")\n",
    "\n",
    "input_dict = {a : 7.0, b : 10.0}\n",
    "\n",
    "with tf.Session() as sess:\n",
    "    print(sess.run(output, feed_dict = input_dict)) #feed_dict是一个字典结构"
   ]
  },
  {
   "cell_type": "markdown",
   "metadata": {},
   "source": [
    "函数原型"
   ]
  },
  {
   "cell_type": "code",
   "execution_count": null,
   "metadata": {
    "collapsed": true
   },
   "outputs": [],
   "source": [
    "placeholder(\n",
    "    dtype,\n",
    "    shape=None\n",
    "    name=None\n",
    ")"
   ]
  },
  {
   "cell_type": "markdown",
   "metadata": {},
   "source": [
    "该方法的功能，可理解为运行方法run()定义一个形参，参数含义：\n",
    "- `dtype`:用于指定占位符的类型，必须，避免出现类型不匹配错误；\n",
    "- `shape`:指定要传入Tensor对象的形状(数组维度)。默认值`None`,表示可以接受任意形状的张量；\n",
    "- `name`:和其他Op一样，可为占位符操作指定一个名称标识符。\n",
    "\n",
    "tensorflow中的\"Flow\"特性，就是数据计算的“依赖性”"
   ]
  }
 ],
 "metadata": {
  "kernelspec": {
   "display_name": "Python 3",
   "language": "python",
   "name": "python3"
  },
  "language_info": {
   "codemirror_mode": {
    "name": "ipython",
    "version": 3
   },
   "file_extension": ".py",
   "mimetype": "text/x-python",
   "name": "python",
   "nbconvert_exporter": "python",
   "pygments_lexer": "ipython3",
   "version": "3.6.2"
  }
 },
 "nbformat": 4,
 "nbformat_minor": 2
}
