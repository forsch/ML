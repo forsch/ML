{
 "cells": [
  {
   "cell_type": "code",
   "execution_count": 2,
   "metadata": {},
   "outputs": [
    {
     "name": "stdout",
     "output_type": "stream",
     "text": [
      "------------\n",
      " [[4 4 4]\n",
      " [6 6 6]]\n",
      "------------\n",
      " [[3 3 3]\n",
      " [7 7 7]]\n",
      "------------\n",
      " [[ 3  6]\n",
      " [ 9 12]]\n",
      "------------\n",
      " 30\n"
     ]
    }
   ],
   "source": [
    "import tensorflow as tf\n",
    "x1 = tf.constant(\n",
    "    [[[1, 1, 1], [2, 2, 2]],\n",
    "    [[3, 3, 3], [4, 4, 4]]]\n",
    ")\n",
    "\n",
    "z0 = tf.reduce_sum(x1, 0)\n",
    "z1 = tf.reduce_sum(x1, 1)\n",
    "z2 = tf.reduce_sum(x1, 2)\n",
    "z3 = tf.reduce_sum(x1)     #不指定维度，即None，表示在各个维度都实施约减\n",
    "\n",
    "with tf.Session() as sess:\n",
    "    re0 = sess.run(z0)\n",
    "    print(\"------------\\n\",re0)\n",
    "    re1 = sess.run(z1)\n",
    "    print(\"------------\\n\",re1)\n",
    "    re2 = sess.run(z2)\n",
    "    print(\"------------\\n\",re2)\n",
    "    re3 = sess.run(z3)\n",
    "    print(\"------------\\n\",re3)"
   ]
  }
 ],
 "metadata": {
  "kernelspec": {
   "display_name": "Python 3",
   "language": "python",
   "name": "python3"
  },
  "language_info": {
   "codemirror_mode": {
    "name": "ipython",
    "version": 3
   },
   "file_extension": ".py",
   "mimetype": "text/x-python",
   "name": "python",
   "nbconvert_exporter": "python",
   "pygments_lexer": "ipython3",
   "version": "3.6.2"
  }
 },
 "nbformat": 4,
 "nbformat_minor": 2
}
