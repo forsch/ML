{
 "cells": [
  {
   "cell_type": "markdown",
   "metadata": {},
   "source": [
    "### 背景 \n",
    "在典型的tensorflow应用程序中，可能会有数以千计的计算节点。如此多的节点汇集在一起，难以分析，甚至无法用标准的图表工具来展示。解决这个问题，一个有效方法就是，为Op/Tensor划定名称范围。"
   ]
  },
  {
   "cell_type": "markdown",
   "metadata": {},
   "source": [
    "在tensorflow中，这个机制叫**名称作用域(name scope)**。它的作用类似C++中的“命名空间(namespace)”,或java中的“包(package)”。\n",
    "\n",
    "使用名称作用域后，就可以将一些Op或Tensor划分到某个指定的名称作用域空间，以达到*划片管理、各司其职*的效果"
   ]
  },
  {
   "cell_type": "markdown",
   "metadata": {},
   "source": [
    "### 示例"
   ]
  },
  {
   "cell_type": "code",
   "execution_count": 1,
   "metadata": {},
   "outputs": [
    {
     "name": "stdout",
     "output_type": "stream",
     "text": [
      "sunny/forsch:0\n",
      "sunny/weights:0\n",
      "sunny/biases:0\n",
      "wugui/weights:0\n",
      "wugui/biases:0\n"
     ]
    }
   ],
   "source": [
    "import tensorflow as tf\n",
    "\n",
    "with tf.name_scope('sunny') as scope:  　#设置名称作用域'sunny'\n",
    "    a = tf.constant(5, name='forsch')\n",
    "    print(a.name)\n",
    "    weights = tf.Variable(tf.random_uniform([1, 2], -1.0, 1.0), name='weights')\n",
    "    print(weights.name)\n",
    "    bias = tf.Variable(tf.zeros([1]), name='biases')\n",
    "    print(bias.name)\n",
    "    \n",
    "with tf.name_scope('wugui') as scope:   #设置名称作用域'wugui'\n",
    "    weights = tf.Variable([1.0, 2.0], name='weights')\n",
    "    print(weights.name)\n",
    "    bias = tf.Variable([0.3], name='biases')\n",
    "    print(bias.name)\n",
    "    \n",
    "sess = tf.Session()\n",
    "writer = tf.summary.FileWriter('./my_graph/2', sess.graph)"
   ]
  }
 ],
 "metadata": {
  "kernelspec": {
   "display_name": "Python 3",
   "language": "python",
   "name": "python3"
  },
  "language_info": {
   "codemirror_mode": {
    "name": "ipython",
    "version": 3
   },
   "file_extension": ".py",
   "mimetype": "text/x-python",
   "name": "python",
   "nbconvert_exporter": "python",
   "pygments_lexer": "ipython3",
   "version": "3.6.2"
  }
 },
 "nbformat": 4,
 "nbformat_minor": 2
}
