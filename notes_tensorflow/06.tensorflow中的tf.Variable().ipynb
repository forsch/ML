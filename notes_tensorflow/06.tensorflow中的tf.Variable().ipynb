{
 "cells": [
  {
   "cell_type": "markdown",
   "metadata": {
    "collapsed": true
   },
   "source": [
    "数据流图有两大组成部分： \n",
    "- Tensor对象\n",
    "- Op对象\n",
    "\n",
    "这二者的特性都是不可变的(immutable),在数据流图中对于普通Tensor来说，经过一次Op操作之后，就会转化为另一个Tensor。当前一个Tensor的使命完成之后就会被系统回收。\n",
    "\n",
    "但在机器学习任务中，某些参数(eg:模型参数)可能需要长期保存，他们的值还需要不断迭代更新，也就是，它必须是可变的。\n",
    "\n",
    "为了处理这个问题，所以就有了变量(Variable)\n",
    "\n",
    "`Variable`是一个常驻内存，不会被轻易回收的Tensor。\n",
    "\n",
    "`Variable`对象通过tf.Variable()即可完成"
   ]
  },
  {
   "cell_type": "code",
   "execution_count": 8,
   "metadata": {},
   "outputs": [
    {
     "name": "stdout",
     "output_type": "stream",
     "text": [
      "0\n",
      "1\n",
      "2\n",
      "3\n"
     ]
    }
   ],
   "source": [
    "import tensorflow as tf\n",
    "\n",
    "my_state = tf.Variable(0, name = \"counter\") #创建一个Op变量my_state，并初始化为0\n",
    "one = tf.constant(1)   #创建一个Op常量赋值为1\n",
    "new_value = tf.add(my_state, one)\n",
    "update = tf.assign(my_state, new_value) #通过assign()函数，将new_value的值赋给my_state.\n",
    "init_Op = tf.global_variables_initializer() #tf.global_variables_initializer()会返回一个操作，初始化计算图中所有Variable对象\n",
    "#------------------------------------------------\n",
    "#以上部分为数据流图的构想，只有在构建会话Session()之后，构想才给予实施。\n",
    "\n",
    "with tf.Session() as sess:\n",
    "    sess.run(init_Op)  #初始化操作\n",
    "    print(sess.run(my_state))\n",
    "    for _ in range(3):   #下划线变量\"_\" 可理解为“垃圾箱变量”\n",
    "        sess.run(update)\n",
    "        print(sess.run(my_state))"
   ]
  }
 ],
 "metadata": {
  "kernelspec": {
   "display_name": "Python 3",
   "language": "python",
   "name": "python3"
  },
  "language_info": {
   "codemirror_mode": {
    "name": "ipython",
    "version": 3
   },
   "file_extension": ".py",
   "mimetype": "text/x-python",
   "name": "python",
   "nbconvert_exporter": "python",
   "pygments_lexer": "ipython3",
   "version": "3.6.2"
  }
 },
 "nbformat": 4,
 "nbformat_minor": 2
}
