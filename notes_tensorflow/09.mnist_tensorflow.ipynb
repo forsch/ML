{
 "cells": [
  {
   "cell_type": "code",
   "execution_count": 6,
   "metadata": {
    "slideshow": {
     "slide_type": "fragment"
    }
   },
   "outputs": [
    {
     "name": "stdout",
     "output_type": "stream",
     "text": [
      "Extracting /worker/mnistdata/train-images-idx3-ubyte.gz\n",
      "Extracting /worker/mnistdata/train-labels-idx1-ubyte.gz\n",
      "Extracting /worker/mnistdata/t10k-images-idx3-ubyte.gz\n",
      "Extracting /worker/mnistdata/t10k-labels-idx1-ubyte.gz\n",
      "(55000, 784) (55000, 10)\n",
      "(10000, 784) (10000, 10)\n",
      "(5000, 784) (5000, 10)\n"
     ]
    },
    {
     "data": {
      "image/png": "[encoded data removed]",
      "text/plain": [
       "<Figure size 720x216 with 5 Axes>"
      ]
     },
     "metadata": {},
     "output_type": "display_data"
    },
    {
     "data": {
      "text/plain": [
       "array([[0., 0., 0., 0., 0., 0., 0., 1., 0., 0.],\n",
       "       [0., 0., 0., 1., 0., 0., 0., 0., 0., 0.],\n",
       "       [0., 0., 0., 0., 1., 0., 0., 0., 0., 0.],\n",
       "       [0., 0., 0., 0., 0., 0., 1., 0., 0., 0.]])"
      ]
     },
     "execution_count": 6,
     "metadata": {},
     "output_type": "execute_result"
    }
   ],
   "source": [
    "import tensorflow as tf\n",
    "from tensorflow.examples.tutorials.mnist import input_data  #tensorflow已经包含了mnist案例的数据\n",
    "mnist = input_data.read_data_sets(\"/worker/mnistdata/\", one_hot = True) #导入已经下载好的数据集,\"/worker/mnistdata/\"为存放mnist数据集的文件夹\n",
    "\n",
    "print(mnist.train.images.shape, mnist.train.labels.shape)  #输出训练集样本的形状为55 000 x 784;训练样本为55 000个；\n",
    "print(mnist.test.images.shape, mnist.test.labels.shape) # 输出测试集样本的形状\n",
    "print(mnist.validation.images.shape, mnist.validation.labels.shape) # 输出验证集样本的形状\n",
    "\n",
    "import matplotlib.pyplot as plt\n",
    "n_samples = 5\n",
    "plt.figure(figsize=(n_samples * 2, 3))\n",
    "for index in range(n_samples):\n",
    "    plt.subplot(1, n_samples, index + 1)\n",
    "    sample_image = mnist.train.images[index].reshape(28, 28)\n",
    "    plt.imshow(sample_image, cmap=\"binary\")\n",
    "    plt.axis(\"off\")\n",
    "    \n",
    "plt.show()\n",
    "\n",
    "mnist.train.labels[:4]"
   ]
  },
  {
   "cell_type": "markdown",
   "metadata": {},
   "source": [
    "`read_data_sets()`函数 \n",
    "- 第一个参数用于指定下载数据的的路径 \n",
    "- 第二个参数\"one_hot\"表示的是one_hot编码--一位有效编码(独热编码)；类似于位状态寄存器，在对状态进行编码时，只有一位有效，设置值为1，其他均为0."
   ]
  },
  {
   "cell_type": "markdown",
   "metadata": {},
   "source": [
    "`print(mnist.train.images.shape, mnist.train.labels.shape)`输出训练集样本的形状为55 000 x 784;训练样本为55 000个；784--mnist集合中，每张图片是28 x 28像素，本是个二维图片，但为了简化模型，使用了降为处理。通过降维，把一个二维的图片拉成一个包含28 x 28 = 784个特征的一维向量(把二维矩阵的第2行，第3行...一次接到第1行后面。) 不足：损失了原来图片的2D结构信息，优点：简化了任务"
   ]
  }
 ],
 "metadata": {
  "kernelspec": {
   "display_name": "Python 3",
   "language": "python",
   "name": "python3"
  },
  "language_info": {
   "codemirror_mode": {
    "name": "ipython",
    "version": 3
   },
   "file_extension": ".py",
   "mimetype": "text/x-python",
   "name": "python",
   "nbconvert_exporter": "python",
   "pygments_lexer": "ipython3",
   "version": "3.6.7"
  }
 },
 "nbformat": 4,
 "nbformat_minor": 2
}
