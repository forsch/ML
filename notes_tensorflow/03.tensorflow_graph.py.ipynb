{
 "cells": [
  {
   "cell_type": "markdown",
   "metadata": {
    "collapsed": true
   },
   "source": [
    "### 创建图对象"
   ]
  },
  {
   "cell_type": "code",
   "execution_count": 1,
   "metadata": {},
   "outputs": [
    {
     "name": "stdout",
     "output_type": "stream",
     "text": [
      "<tensorflow.python.framework.ops.Graph object at 0x7f46885216d8>\n",
      "<tensorflow.python.framework.ops.Graph object at 0x7f46885216d8>\n"
     ]
    }
   ],
   "source": [
    "import tensorflow as tf\n",
    "import numpy as np\n",
    "\n",
    "a = tf.constant(123)\n",
    "print(a.graph)\n",
    "print(tf.get_default_graph())"
   ]
  },
  {
   "cell_type": "markdown",
   "metadata": {},
   "source": [
    "当tensorflow库被加载时，即使用户没有显示地创建一个图，他也会自动创建一个图对象，并将其作为默认的额数据流图。"
   ]
  },
  {
   "cell_type": "markdown",
   "metadata": {},
   "source": [
    "### 创建显示图"
   ]
  },
  {
   "cell_type": "code",
   "execution_count": 2,
   "metadata": {},
   "outputs": [
    {
     "name": "stdout",
     "output_type": "stream",
     "text": [
      "<tensorflow.python.framework.ops.Graph object at 0x7f466363b2e8>\n",
      "<tensorflow.python.framework.ops.Graph object at 0x7f466363b2e8>\n"
     ]
    }
   ],
   "source": [
    "import tensorflow as tf\n",
    "import numpy as np\n",
    "\n",
    "g= tf.Graph() #创建了一个图对象g\n",
    "with g.as_default(): # 将g设置为默认图像\n",
    "    a = tf.constant(123)\n",
    "    print(a.graph)\n",
    "    print(tf.get_default_graph())"
   ]
  },
  {
   "cell_type": "markdown",
   "metadata": {},
   "source": [
    "`as_default()`:返回一个上下文管理器，使得当前图对象称为当前默认图对象；在一个进程中创建多个人图对象时(图对象互不依赖)，非常有用。 \n",
    "\n",
    "`get_default_graph()`:获取当前图对象的句柄(某个事务的唯一标识)。"
   ]
  },
  {
   "cell_type": "markdown",
   "metadata": {},
   "source": [
    "### 创建多个图 "
   ]
  },
  {
   "cell_type": "code",
   "execution_count": 5,
   "metadata": {},
   "outputs": [
    {
     "name": "stdout",
     "output_type": "stream",
     "text": [
      "<tensorflow.python.framework.ops.Graph object at 0x7f466363b630>\n",
      "<tensorflow.python.framework.ops.Graph object at 0x7f466363b630>\n",
      "<tensorflow.python.framework.ops.Graph object at 0x7f4688609b00>\n",
      "<tensorflow.python.framework.ops.Graph object at 0x7f4688609b00>\n"
     ]
    }
   ],
   "source": [
    "import tensorflow as tf \n",
    "import numpy as np\n",
    "\n",
    "g1 = tf.Graph()\n",
    "g2 = tf.Graph()\n",
    "\n",
    "with g1.as_default():\n",
    "    a = tf.constant(123)\n",
    "    print(a.graph)\n",
    "    print(tf.get_default_graph())\n",
    "    \n",
    "with g2.as_default():\n",
    "    b = tf.multiply(2, 3)\n",
    "    print(b.graph)\n",
    "    print(tf.get_default_graph())"
   ]
  },
  {
   "cell_type": "markdown",
   "metadata": {},
   "source": [
    "Tensor 对象 a 和 b 所属的图已不再一样，随着`as_default()`的值变化而变化。"
   ]
  }
 ],
 "metadata": {
  "kernelspec": {
   "display_name": "Python 3",
   "language": "python",
   "name": "python3"
  },
  "language_info": {
   "codemirror_mode": {
    "name": "ipython",
    "version": 3
   },
   "file_extension": ".py",
   "mimetype": "text/x-python",
   "name": "python",
   "nbconvert_exporter": "python",
   "pygments_lexer": "ipython3",
   "version": "3.6.2"
  }
 },
 "nbformat": 4,
 "nbformat_minor": 2
}
