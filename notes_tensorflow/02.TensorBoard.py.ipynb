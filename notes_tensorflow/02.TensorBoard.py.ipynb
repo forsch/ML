{
 "cells": [
  {
   "cell_type": "code",
   "execution_count": 1,
   "metadata": {},
   "outputs": [
    {
     "name": "stdout",
     "output_type": "stream",
     "text": [
      "14\n"
     ]
    }
   ],
   "source": [
    "import tensorflow as tf\n",
    "\n",
    "a = tf.constant(4, name = 'input_a')\n",
    "b = tf.constant(2, name = 'input_b')\n",
    "c = tf.multiply(a,b, name = 'mul_c')\n",
    "d = tf.add(a,b, name = 'add_d')\n",
    "e = tf.add(c,d, name = 'add_e')\n",
    "\n",
    "with tf.Session() as sess:\n",
    "    print(sess.run(e))\n",
    "    writer = tf.summary.FileWriter('./my_graph/1')  #设置数据流图中数据的写入路径 \"./my_graph/1\"\n",
    "    writer.add_graph(sess.graph)  #将当前会话的图数据写入指定路径下的文件中"
   ]
  }
 ],
 "metadata": {
  "kernelspec": {
   "display_name": "Python 3",
   "language": "python",
   "name": "python3"
  },
  "language_info": {
   "codemirror_mode": {
    "name": "ipython",
    "version": 3
   },
   "file_extension": ".py",
   "mimetype": "text/x-python",
   "name": "python",
   "nbconvert_exporter": "python",
   "pygments_lexer": "ipython3",
   "version": "3.7.0"
  }
 },
 "nbformat": 4,
 "nbformat_minor": 2
}
