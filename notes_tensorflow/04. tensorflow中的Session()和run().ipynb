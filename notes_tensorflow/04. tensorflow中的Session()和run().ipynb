{
 "cells": [
  {
   "cell_type": "markdown",
   "metadata": {},
   "source": [
    "Session()方法"
   ]
  },
  {
   "cell_type": "markdown",
   "metadata": {},
   "source": [
    "tensorflow的内核使用更加高效的C++作为后台，以支撑它的密集计算。tensorflow把前台(即python程序)与后台程序之间的连接称为\"会话(Session)\""
   ]
  },
  {
   "cell_type": "markdown",
   "metadata": {},
   "source": [
    "`Session`作为会话，主要功能是指定操作对象的执行环境，`Session`类构造函数有3个可选参数。 \n",
    "- `target`(可选)：指定连接的执行引擎，多用于分布式场景。\n",
    "- `graph`(可选)：指定要在Session对象中参与计算的图(graph)。\n",
    "- `config`(可选)：辅助配置Session对象所需的参数(限制CPU或GPU使用数目，设置优化参数以及设置日志选项等)。"
   ]
  },
  {
   "cell_type": "markdown",
   "metadata": {},
   "source": [
    "---"
   ]
  },
  {
   "cell_type": "raw",
   "metadata": {},
   "source": [
    "run()方法"
   ]
  },
  {
   "cell_type": "markdown",
   "metadata": {},
   "source": [
    "Session对象创建完毕，便可以使用它最重要的方法run()来启动所需要的数据流图进行计算。\n",
    "\n",
    "run()方法有4个参数："
   ]
  },
  {
   "cell_type": "code",
   "execution_count": null,
   "metadata": {
    "collapsed": true
   },
   "outputs": [],
   "source": [
    "run(\n",
    "    fetches,\n",
    "    feed_dict=None\n",
    "    options=None,\n",
    "    run_metadata=None\n",
    ")"
   ]
  },
  {
   "cell_type": "markdown",
   "metadata": {},
   "source": [
    "(1).fetches参数 \n",
    "- '取得之物'，表示数据流图中能接收的任意数据流图元素，各类Op/Tensor对象。Op,run()将返回None；Tensor,rnu()将返回Numpy数组。"
   ]
  },
  {
   "cell_type": "code",
   "execution_count": 2,
   "metadata": {},
   "outputs": [
    {
     "name": "stdout",
     "output_type": "stream",
     "text": [
      "[10 20]\n",
      "[array([10, 20], dtype=int32), array([ 1.,  2.], dtype=float32)]\n",
      "None\n"
     ]
    }
   ],
   "source": [
    "import tensorflow as tf\n",
    "from collections import namedtuple\n",
    "\n",
    "a = tf.constant([10, 20])\n",
    "b = tf.constant([1.0, 2.0])\n",
    "session = tf.Session()\n",
    "\n",
    "v1 = session.run(a) #fetches参数为单个张量值，返回值为Numpy数组\n",
    "print(v1)\n",
    "v2 = session.run([a, b]) #fetches参数为python类表，包括两个numpy的1维矩阵\n",
    "print(v2)\n",
    "v3 = session.run(tf.global_variables_initializer()) #fetches 为Op类型\n",
    "print(v3)\n",
    "session.close()"
   ]
  },
  {
   "cell_type": "markdown",
   "metadata": {},
   "source": [
    "(2). feed_dict参数 \n",
    "- 可选项，给数据流图提供运行时数据。`feed_dict`的数据结构为python中的字典，其元素为各种键值对。\"key\"为各种Tensor对象的句柄；\"value\"很广泛，但必须和“键”的类型相匹配，或能转换为同一类型。"
   ]
  },
  {
   "cell_type": "code",
   "execution_count": 10,
   "metadata": {},
   "outputs": [
    {
     "name": "stdout",
     "output_type": "stream",
     "text": [
      "6\n",
      "40\n"
     ]
    }
   ],
   "source": [
    "import tensorflow as tf\n",
    "\n",
    "a = tf.add(1, 2)\n",
    "b = tf.multiply(a, 2)\n",
    "session = tf.Session()\n",
    "v1 = session.run(b)\n",
    "print(v1)\n",
    "\n",
    "replace_dict = {a:20}\n",
    "v2 = session.run(b, feed_dict = replace_dict)\n",
    "print(v2)"
   ]
  }
 ],
 "metadata": {
  "kernelspec": {
   "display_name": "Python 3",
   "language": "python",
   "name": "python3"
  },
  "language_info": {
   "codemirror_mode": {
    "name": "ipython",
    "version": 3
   },
   "file_extension": ".py",
   "mimetype": "text/x-python",
   "name": "python",
   "nbconvert_exporter": "python",
   "pygments_lexer": "ipython3",
   "version": "3.6.2"
  }
 },
 "nbformat": 4,
 "nbformat_minor": 2
}
